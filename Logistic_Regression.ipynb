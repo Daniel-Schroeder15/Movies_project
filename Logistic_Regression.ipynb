{
 "cells": [
  {
   "cell_type": "code",
   "execution_count": 107,
   "metadata": {},
   "outputs": [],
   "source": [
    "# Import Dependencies\n",
    "import pandas as pd\n",
    "from sklearn.linear_model import ElasticNet\n",
    "from sklearn.linear_model import Lasso\n",
    "from sklearn.metrics import r2_score\n",
    "import matplotlib.pyplot as plt\n",
    "import numpy as np"
   ]
  },
  {
   "cell_type": "code",
   "execution_count": 137,
   "metadata": {},
   "outputs": [
    {
     "data": {
      "text/plain": [
       "['budget_ds-movies',\n",
       " 'gross',\n",
       " 'score',\n",
       " 'popularity',\n",
       " 'revenue',\n",
       " 'title',\n",
       " 'Ave_runtime',\n",
       " 'Rotten Tomatoes',\n",
       " 'Netflix',\n",
       " 'Hulu',\n",
       " 'Prime Video',\n",
       " 'Disney+',\n",
       " 'Votes_Count',\n",
       " 'company_Columbia Pictures',\n",
       " 'company_Columbia Pictures Corporation',\n",
       " 'company_Dimension Films',\n",
       " 'company_DreamWorks',\n",
       " 'company_DreamWorks Animation',\n",
       " 'company_Lionsgate',\n",
       " 'company_Marvel Studios',\n",
       " 'company_Metro-Goldwyn-Mayer (MGM)',\n",
       " 'company_Millennium Films',\n",
       " 'company_Miramax',\n",
       " 'company_New Line Cinema',\n",
       " 'company_Other',\n",
       " 'company_Paramount Pictures',\n",
       " 'company_Paramount Vantage',\n",
       " 'company_Pixar Animation Studios',\n",
       " 'company_Screen Gems',\n",
       " 'company_Summit Entertainment',\n",
       " 'company_Touchstone Pictures',\n",
       " 'company_Twentieth Century Fox Film Corporation',\n",
       " 'company_Universal Pictures',\n",
       " 'company_Walt Disney Animation Studios',\n",
       " 'company_Walt Disney Pictures',\n",
       " 'company_Warner Bros.',\n",
       " 'country_Australia',\n",
       " 'country_Canada',\n",
       " 'country_China',\n",
       " 'country_France',\n",
       " 'country_Germany',\n",
       " 'country_Hong Kong',\n",
       " 'country_India',\n",
       " 'country_Ireland',\n",
       " 'country_Italy',\n",
       " 'country_Japan',\n",
       " 'country_Mexico',\n",
       " 'country_Netherlands',\n",
       " 'country_South Korea',\n",
       " 'country_Spain',\n",
       " 'country_Sweden',\n",
       " 'country_UK',\n",
       " 'country_USA',\n",
       " 'genre_Action',\n",
       " 'genre_Adventure',\n",
       " 'genre_Animation',\n",
       " 'genre_Biography',\n",
       " 'genre_Comedy',\n",
       " 'genre_Crime',\n",
       " 'genre_Drama',\n",
       " 'genre_Fantasy',\n",
       " 'genre_Horror',\n",
       " 'genre_Mystery',\n",
       " 'genre_Sci-Fi',\n",
       " 'genre_Thriller',\n",
       " 'genre_Western',\n",
       " 'rating_G',\n",
       " 'rating_NOT RATED',\n",
       " 'rating_PG',\n",
       " 'rating_PG-13',\n",
       " 'rating_R',\n",
       " 'Age_13+',\n",
       " 'Age_18+',\n",
       " 'Age_7+',\n",
       " 'Age_all',\n",
       " 'original_language_cn',\n",
       " 'original_language_de',\n",
       " 'original_language_en',\n",
       " 'original_language_es',\n",
       " 'original_language_fr',\n",
       " 'original_language_hi',\n",
       " 'original_language_it',\n",
       " 'original_language_ja',\n",
       " 'original_language_ko',\n",
       " 'original_language_nl',\n",
       " 'original_language_pt',\n",
       " 'original_language_zh']"
      ]
     },
     "execution_count": 137,
     "metadata": {},
     "output_type": "execute_result"
    }
   ],
   "source": [
    "# Extracting final dataset for ML\n",
    "path = \"Final_Movies_dataset.csv\"\n",
    "movies_df = pd.read_csv(path)\n",
    "movies_df.columns.tolist()"
   ]
  },
  {
   "cell_type": "code",
   "execution_count": 138,
   "metadata": {},
   "outputs": [],
   "source": [
    "# Drop \"title\" from dataframe\n",
    "movies_df = movies_df.drop(columns=['title'])"
   ]
  },
  {
   "cell_type": "markdown",
   "metadata": {},
   "source": [
    "## Predicting score"
   ]
  },
  {
   "cell_type": "code",
   "execution_count": 139,
   "metadata": {},
   "outputs": [],
   "source": [
    "# Separate futures (x) from the Target (y)\n",
    "y = movies_df[\"score\"]\n",
    "X = movies_df.drop(columns=\"score\")"
   ]
  },
  {
   "cell_type": "code",
   "execution_count": 140,
   "metadata": {},
   "outputs": [
    {
     "data": {
      "text/plain": [
       "(445, 85)"
      ]
     },
     "execution_count": 140,
     "metadata": {},
     "output_type": "execute_result"
    }
   ],
   "source": [
    "# Split our data into training and testing\n",
    "from sklearn.model_selection import train_test_split\n",
    "X_train, X_test, y_train, y_test = train_test_split(X,\n",
    "   y, random_state=1)\n",
    "# Shape of the training set\n",
    "X_train.shape"
   ]
  },
  {
   "cell_type": "code",
   "execution_count": 159,
   "metadata": {},
   "outputs": [
    {
     "name": "stdout",
     "output_type": "stream",
     "text": [
      "Lasso(alpha=0.1)\n",
      "r^2 on test data : 0.590182\n"
     ]
    }
   ],
   "source": [
    "# Lasso\n",
    "alpha = 0.1\n",
    "lasso = Lasso(alpha=alpha)\n",
    "\n",
    "y_pred_lasso = lasso.fit(X_train, y_train).predict(X_test)\n",
    "r2_score_lasso = r2_score(y_test, y_pred_lasso)\n",
    "print(lasso)\n",
    "print(\"r^2 on test data : %f\" % r2_score_lasso)"
   ]
  },
  {
   "cell_type": "code",
   "execution_count": 142,
   "metadata": {},
   "outputs": [
    {
     "data": {
      "text/html": [
       "<div>\n",
       "<style scoped>\n",
       "    .dataframe tbody tr th:only-of-type {\n",
       "        vertical-align: middle;\n",
       "    }\n",
       "\n",
       "    .dataframe tbody tr th {\n",
       "        vertical-align: top;\n",
       "    }\n",
       "\n",
       "    .dataframe thead th {\n",
       "        text-align: right;\n",
       "    }\n",
       "</style>\n",
       "<table border=\"1\" class=\"dataframe\">\n",
       "  <thead>\n",
       "    <tr style=\"text-align: right;\">\n",
       "      <th></th>\n",
       "      <th>Prediction</th>\n",
       "      <th>Actual</th>\n",
       "    </tr>\n",
       "  </thead>\n",
       "  <tbody>\n",
       "    <tr>\n",
       "      <th>0</th>\n",
       "      <td>6.177106</td>\n",
       "      <td>5.8</td>\n",
       "    </tr>\n",
       "    <tr>\n",
       "      <th>1</th>\n",
       "      <td>7.402930</td>\n",
       "      <td>7.7</td>\n",
       "    </tr>\n",
       "    <tr>\n",
       "      <th>2</th>\n",
       "      <td>7.248848</td>\n",
       "      <td>7.4</td>\n",
       "    </tr>\n",
       "    <tr>\n",
       "      <th>3</th>\n",
       "      <td>5.523160</td>\n",
       "      <td>5.0</td>\n",
       "    </tr>\n",
       "    <tr>\n",
       "      <th>4</th>\n",
       "      <td>7.148437</td>\n",
       "      <td>7.1</td>\n",
       "    </tr>\n",
       "    <tr>\n",
       "      <th>5</th>\n",
       "      <td>7.434722</td>\n",
       "      <td>7.2</td>\n",
       "    </tr>\n",
       "    <tr>\n",
       "      <th>6</th>\n",
       "      <td>7.175333</td>\n",
       "      <td>6.7</td>\n",
       "    </tr>\n",
       "    <tr>\n",
       "      <th>7</th>\n",
       "      <td>7.206726</td>\n",
       "      <td>6.7</td>\n",
       "    </tr>\n",
       "    <tr>\n",
       "      <th>8</th>\n",
       "      <td>6.425339</td>\n",
       "      <td>6.2</td>\n",
       "    </tr>\n",
       "    <tr>\n",
       "      <th>9</th>\n",
       "      <td>6.899762</td>\n",
       "      <td>7.2</td>\n",
       "    </tr>\n",
       "    <tr>\n",
       "      <th>10</th>\n",
       "      <td>7.898340</td>\n",
       "      <td>7.7</td>\n",
       "    </tr>\n",
       "    <tr>\n",
       "      <th>11</th>\n",
       "      <td>6.038506</td>\n",
       "      <td>8.2</td>\n",
       "    </tr>\n",
       "    <tr>\n",
       "      <th>12</th>\n",
       "      <td>5.274911</td>\n",
       "      <td>5.1</td>\n",
       "    </tr>\n",
       "    <tr>\n",
       "      <th>13</th>\n",
       "      <td>7.253099</td>\n",
       "      <td>7.4</td>\n",
       "    </tr>\n",
       "    <tr>\n",
       "      <th>14</th>\n",
       "      <td>5.999010</td>\n",
       "      <td>6.5</td>\n",
       "    </tr>\n",
       "    <tr>\n",
       "      <th>15</th>\n",
       "      <td>5.908817</td>\n",
       "      <td>6.6</td>\n",
       "    </tr>\n",
       "    <tr>\n",
       "      <th>16</th>\n",
       "      <td>6.645894</td>\n",
       "      <td>5.8</td>\n",
       "    </tr>\n",
       "    <tr>\n",
       "      <th>17</th>\n",
       "      <td>6.879111</td>\n",
       "      <td>6.7</td>\n",
       "    </tr>\n",
       "    <tr>\n",
       "      <th>18</th>\n",
       "      <td>6.695776</td>\n",
       "      <td>6.8</td>\n",
       "    </tr>\n",
       "    <tr>\n",
       "      <th>19</th>\n",
       "      <td>6.764524</td>\n",
       "      <td>6.6</td>\n",
       "    </tr>\n",
       "  </tbody>\n",
       "</table>\n",
       "</div>"
      ],
      "text/plain": [
       "    Prediction  Actual\n",
       "0     6.177106     5.8\n",
       "1     7.402930     7.7\n",
       "2     7.248848     7.4\n",
       "3     5.523160     5.0\n",
       "4     7.148437     7.1\n",
       "5     7.434722     7.2\n",
       "6     7.175333     6.7\n",
       "7     7.206726     6.7\n",
       "8     6.425339     6.2\n",
       "9     6.899762     7.2\n",
       "10    7.898340     7.7\n",
       "11    6.038506     8.2\n",
       "12    5.274911     5.1\n",
       "13    7.253099     7.4\n",
       "14    5.999010     6.5\n",
       "15    5.908817     6.6\n",
       "16    6.645894     5.8\n",
       "17    6.879111     6.7\n",
       "18    6.695776     6.8\n",
       "19    6.764524     6.6"
      ]
     },
     "execution_count": 142,
     "metadata": {},
     "output_type": "execute_result"
    }
   ],
   "source": [
    "# Make predictions for Lasso\n",
    "results = pd.DataFrame({\"Prediction\": y_pred_lasso, \"Actual\": y_test}).reset_index(drop=True)\n",
    "results.head(20)\n",
    "# results['Prediction'].sum()"
   ]
  },
  {
   "cell_type": "code",
   "execution_count": 143,
   "metadata": {},
   "outputs": [
    {
     "data": {
      "text/plain": [
       "<matplotlib.axes._subplots.AxesSubplot at 0x12a819590c8>"
      ]
     },
     "execution_count": 143,
     "metadata": {},
     "output_type": "execute_result"
    },
    {
     "data": {
      "image/png": "[encoded data removed]",
      "text/plain": [
       "<Figure size 432x288 with 1 Axes>"
      ]
     },
     "metadata": {
      "needs_background": "light"
     },
     "output_type": "display_data"
    }
   ],
   "source": [
    "# Plotting predictions for Lasso\n",
    "results.plot(x='Actual', y='Prediction', kind='scatter')"
   ]
  },
  {
   "cell_type": "code",
   "execution_count": 155,
   "metadata": {},
   "outputs": [
    {
     "name": "stdout",
     "output_type": "stream",
     "text": [
      "ElasticNet(alpha=0.1, l1_ratio=0.7)\n",
      "r^2 on test data : 0.589483\n"
     ]
    }
   ],
   "source": [
    "# ElasticNet\n",
    "enet = ElasticNet(alpha=alpha, l1_ratio=0.7)\n",
    "\n",
    "y_pred_enet = enet.fit(X_train, y_train).predict(X_test)\n",
    "r2_score_enet = r2_score(y_test, y_pred_enet)\n",
    "print(enet)\n",
    "print(\"r^2 on test data : %f\" % r2_score_enet)"
   ]
  },
  {
   "cell_type": "code",
   "execution_count": 151,
   "metadata": {},
   "outputs": [
    {
     "data": {
      "text/html": [
       "<div>\n",
       "<style scoped>\n",
       "    .dataframe tbody tr th:only-of-type {\n",
       "        vertical-align: middle;\n",
       "    }\n",
       "\n",
       "    .dataframe tbody tr th {\n",
       "        vertical-align: top;\n",
       "    }\n",
       "\n",
       "    .dataframe thead th {\n",
       "        text-align: right;\n",
       "    }\n",
       "</style>\n",
       "<table border=\"1\" class=\"dataframe\">\n",
       "  <thead>\n",
       "    <tr style=\"text-align: right;\">\n",
       "      <th></th>\n",
       "      <th>Prediction</th>\n",
       "      <th>Actual</th>\n",
       "    </tr>\n",
       "  </thead>\n",
       "  <tbody>\n",
       "    <tr>\n",
       "      <th>0</th>\n",
       "      <td>6.067215</td>\n",
       "      <td>5.8</td>\n",
       "    </tr>\n",
       "    <tr>\n",
       "      <th>1</th>\n",
       "      <td>7.308773</td>\n",
       "      <td>7.7</td>\n",
       "    </tr>\n",
       "    <tr>\n",
       "      <th>2</th>\n",
       "      <td>7.353023</td>\n",
       "      <td>7.4</td>\n",
       "    </tr>\n",
       "    <tr>\n",
       "      <th>3</th>\n",
       "      <td>5.573933</td>\n",
       "      <td>5.0</td>\n",
       "    </tr>\n",
       "    <tr>\n",
       "      <th>4</th>\n",
       "      <td>7.126878</td>\n",
       "      <td>7.1</td>\n",
       "    </tr>\n",
       "    <tr>\n",
       "      <th>5</th>\n",
       "      <td>7.574354</td>\n",
       "      <td>7.2</td>\n",
       "    </tr>\n",
       "    <tr>\n",
       "      <th>6</th>\n",
       "      <td>6.969785</td>\n",
       "      <td>6.7</td>\n",
       "    </tr>\n",
       "    <tr>\n",
       "      <th>7</th>\n",
       "      <td>7.258527</td>\n",
       "      <td>6.7</td>\n",
       "    </tr>\n",
       "    <tr>\n",
       "      <th>8</th>\n",
       "      <td>6.271827</td>\n",
       "      <td>6.2</td>\n",
       "    </tr>\n",
       "    <tr>\n",
       "      <th>9</th>\n",
       "      <td>6.891492</td>\n",
       "      <td>7.2</td>\n",
       "    </tr>\n",
       "    <tr>\n",
       "      <th>10</th>\n",
       "      <td>8.024599</td>\n",
       "      <td>7.7</td>\n",
       "    </tr>\n",
       "    <tr>\n",
       "      <th>11</th>\n",
       "      <td>6.423878</td>\n",
       "      <td>8.2</td>\n",
       "    </tr>\n",
       "    <tr>\n",
       "      <th>12</th>\n",
       "      <td>5.509312</td>\n",
       "      <td>5.1</td>\n",
       "    </tr>\n",
       "    <tr>\n",
       "      <th>13</th>\n",
       "      <td>7.062643</td>\n",
       "      <td>7.4</td>\n",
       "    </tr>\n",
       "    <tr>\n",
       "      <th>14</th>\n",
       "      <td>6.045901</td>\n",
       "      <td>6.5</td>\n",
       "    </tr>\n",
       "    <tr>\n",
       "      <th>15</th>\n",
       "      <td>5.956747</td>\n",
       "      <td>6.6</td>\n",
       "    </tr>\n",
       "    <tr>\n",
       "      <th>16</th>\n",
       "      <td>6.565713</td>\n",
       "      <td>5.8</td>\n",
       "    </tr>\n",
       "    <tr>\n",
       "      <th>17</th>\n",
       "      <td>6.954092</td>\n",
       "      <td>6.7</td>\n",
       "    </tr>\n",
       "    <tr>\n",
       "      <th>18</th>\n",
       "      <td>6.603033</td>\n",
       "      <td>6.8</td>\n",
       "    </tr>\n",
       "    <tr>\n",
       "      <th>19</th>\n",
       "      <td>6.626348</td>\n",
       "      <td>6.6</td>\n",
       "    </tr>\n",
       "  </tbody>\n",
       "</table>\n",
       "</div>"
      ],
      "text/plain": [
       "    Prediction  Actual\n",
       "0     6.067215     5.8\n",
       "1     7.308773     7.7\n",
       "2     7.353023     7.4\n",
       "3     5.573933     5.0\n",
       "4     7.126878     7.1\n",
       "5     7.574354     7.2\n",
       "6     6.969785     6.7\n",
       "7     7.258527     6.7\n",
       "8     6.271827     6.2\n",
       "9     6.891492     7.2\n",
       "10    8.024599     7.7\n",
       "11    6.423878     8.2\n",
       "12    5.509312     5.1\n",
       "13    7.062643     7.4\n",
       "14    6.045901     6.5\n",
       "15    5.956747     6.6\n",
       "16    6.565713     5.8\n",
       "17    6.954092     6.7\n",
       "18    6.603033     6.8\n",
       "19    6.626348     6.6"
      ]
     },
     "execution_count": 151,
     "metadata": {},
     "output_type": "execute_result"
    }
   ],
   "source": [
    "# Make predictions for EnelasticNet\n",
    "results = pd.DataFrame({\"Prediction\": y_pred_enet, \"Actual\": y_test}).reset_index(drop=True)\n",
    "results.head(20)\n",
    "# results['Prediction'].sum()"
   ]
  },
  {
   "cell_type": "code",
   "execution_count": 152,
   "metadata": {},
   "outputs": [
    {
     "data": {
      "text/plain": [
       "<matplotlib.axes._subplots.AxesSubplot at 0x12a81a22f48>"
      ]
     },
     "execution_count": 152,
     "metadata": {},
     "output_type": "execute_result"
    },
    {
     "data": {
      "image/png": "[encoded data removed]",
      "text/plain": [
       "<Figure size 432x288 with 1 Axes>"
      ]
     },
     "metadata": {
      "needs_background": "light"
     },
     "output_type": "display_data"
    }
   ],
   "source": [
    "# Plotting predictions for EnelasticNet\n",
    "results.plot(x='Actual', y='Prediction', kind='scatter')"
   ]
  }
 ],
 "metadata": {
  "kernelspec": {
   "display_name": "PythonData",
   "language": "python",
   "name": "pythondata"
  },
  "language_info": {
   "codemirror_mode": {
    "name": "ipython",
    "version": 3
   },
   "file_extension": ".py",
   "mimetype": "text/x-python",
   "name": "python",
   "nbconvert_exporter": "python",
   "pygments_lexer": "ipython3",
   "version": "3.7.7"
  }
 },
 "nbformat": 4,
 "nbformat_minor": 4
}
