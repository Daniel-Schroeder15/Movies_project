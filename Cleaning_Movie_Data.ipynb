{
 "cells": [
  {
   "cell_type": "code",
   "execution_count": null,
   "metadata": {},
   "outputs": [],
   "source": [
    "# Import Dependencies\n",
    "from sklearn.preprocessing import OneHotEncoder\n",
    "import pandas as pd\n",
    "from sqlalchemy import create_engine\n",
    "from config import sql_pw"
   ]
  },
  {
   "cell_type": "code",
   "execution_count": null,
   "metadata": {},
   "outputs": [],
   "source": [
    "# Loading mock dataset for Provisional Machine Learning Model\n",
    "# movies_df = pd.read_csv(\"Potential_Datasets/datasets_2745_4700_movies.csv\", encoding = \"ISO-8859-1\")\n",
    "# movies_df.head()"
   ]
  },
  {
   "cell_type": "code",
   "execution_count": null,
   "metadata": {},
   "outputs": [],
   "source": [
    "# Extracting Dataset from S3 Bucket\n",
    "url = \"https://utbootcamp-bucket.s3.amazonaws.com/<folder-name>/datasets_2745_4700_movies.csv\"\n",
    "movies_df = \n",
    "movies_df.head()"
   ]
  },
  {
   "cell_type": "markdown",
   "metadata": {},
   "source": [
    "# Performing inital cleaning of data"
   ]
  },
  {
   "cell_type": "code",
   "execution_count": null,
   "metadata": {},
   "outputs": [],
   "source": [
    "# Droping Identification column (will need to apply NLP to Description)\n",
    "movies_df_clean = movies_df.copy()\n",
    "movies_df_clean = movies_df_clean.drop([\"name\"], axis=1)\n",
    "movies_df_clean.head()"
   ]
  },
  {
   "cell_type": "code",
   "execution_count": null,
   "metadata": {},
   "outputs": [],
   "source": [
    "# Generate our categorical variable list\n",
    "movies_cat = movies_df_clean.dtypes[movies_df_clean.dtypes == \"object\"].index.tolist()\n",
    "\n",
    "# Check the number of unique values in each column\n",
    "movies_df_clean[movies_cat].nunique()"
   ]
  },
  {
   "cell_type": "code",
   "execution_count": null,
   "metadata": {},
   "outputs": [],
   "source": [
    "# Create a OneHotEncoder instance\n",
    "enc = OneHotEncoder(sparse=False)\n",
    "\n",
    "# Fit and transform the OneHotEncoder using the categorical variable list\n",
    "encode_df = pd.DataFrame(enc.fit_transform(movies_df_clean[movies_cat]))\n",
    "\n",
    "# Add the encoded variable names to the DataFrame\n",
    "encode_df.columns = enc.get_feature_names(movies_cat)\n",
    "encode_df.head()"
   ]
  },
  {
   "cell_type": "code",
   "execution_count": null,
   "metadata": {},
   "outputs": [],
   "source": [
    "# Merge one-hot encoded features and drop the originals\n",
    "movies_df_clean = movies_df_clean.merge(encode_df,left_index=True, right_index=True)\n",
    "movies_df_clean = movies_df_clean.drop(movies_cat,1)\n",
    "movies_df_clean.head()"
   ]
  },
  {
   "cell_type": "code",
   "execution_count": null,
   "metadata": {},
   "outputs": [],
   "source": [
    "# Converting score to recomendation value\n",
    "movies_df_clean.loc[movies_df_clean.score >= 7.0, \"recomendation\"] = 2\n",
    "movies_df_clean.loc[(movies_df_clean.score < 7.0) & (movies_df_clean.score > 5.0), \"recomendation\"] = 1\n",
    "movies_df_clean.loc[movies_df_clean.score <= 5.0, \"recomendation\"] = 0\n",
    "movies_df_clean.head()"
   ]
  },
  {
   "cell_type": "markdown",
   "metadata": {},
   "source": [
    "# Load Dataset into PostgreSQL Database"
   ]
  },
  {
   "cell_type": "code",
   "execution_count": null,
   "metadata": {},
   "outputs": [],
   "source": [
    "try:\n",
    "    # Create Database Engine and Load Dataset into Database\n",
    "    connection_string = \"postgres://database-1.cuz2axsi4p0x.us-east-2.rds.amazonaws.com/<database-name>\"\n",
    "    engine = create_engine(connection_string)\n",
    "    movies_df_clean.to_sql(name=\"<table-name>\", con=engine, if_exists=\"replace\")\n",
    "    \n",
    "    print(\"Loaded Movies Data into SQL\")\n",
    "except:\n",
    "    print(\"Failed to load Movies Data into SQL\")"
   ]
  }
 ],
 "metadata": {
  "kernelspec": {
   "display_name": "PythonData",
   "language": "python",
   "name": "pythondata"
  },
  "language_info": {
   "codemirror_mode": {
    "name": "ipython",
    "version": 3
   },
   "file_extension": ".py",
   "mimetype": "text/x-python",
   "name": "python",
   "nbconvert_exporter": "python",
   "pygments_lexer": "ipython3",
   "version": "3.7.7"
  }
 },
 "nbformat": 4,
 "nbformat_minor": 4
}
